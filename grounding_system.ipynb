{
 "cells": [
  {
   "cell_type": "code",
   "execution_count": 1,
   "metadata": {},
   "outputs": [],
   "source": [
    "import numpy as np"
   ]
  },
  {
   "cell_type": "code",
   "execution_count": null,
   "metadata": {},
   "outputs": [],
   "source": [
    "h       =\n",
    "p       =\n",
    "Lc      =\n",
    "aa      = np.sqrt(a*2*h)\n",
    "a       =\n",
    "b       =\n",
    "A       =\n",
    "K1      = 0.1\n",
    "K2      = 4.5\n",
    "LR      = \n",
    "nR      = "
   ]
  },
  {
   "cell_type": "code",
   "execution_count": null,
   "metadata": {},
   "outputs": [],
   "source": [
    "R1 = (p/(np.pi*Lc)) * (np.log(2*Lc/a) + (K1*Lc/np.sqrt(A)) - K2)\n",
    "R2 = (p/(2*np.pi*nR*LR)) * (np.log(4*LR/b) - 1 + (2*K1*LR/np.sqrt(A)) * (np.sqrt(nR) - 1)**2)\n",
    "Rm = (p/(np.pi*Lc)) * (np.log(2*Lc/LR) + (K1*Lc/np.sqrt(A)) - K2 + 1)\n",
    "Rg = (R1*R2-Rm**2) / (R1+R2-2*Rm)"
   ]
  }
 ],
 "metadata": {
  "kernelspec": {
   "display_name": "Python 3",
   "language": "python",
   "name": "python3"
  },
  "language_info": {
   "codemirror_mode": {
    "name": "ipython",
    "version": 3
   },
   "file_extension": ".py",
   "mimetype": "text/x-python",
   "name": "python",
   "nbconvert_exporter": "python",
   "pygments_lexer": "ipython3",
   "version": "3.7.9"
  }
 },
 "nbformat": 4,
 "nbformat_minor": 2
}
