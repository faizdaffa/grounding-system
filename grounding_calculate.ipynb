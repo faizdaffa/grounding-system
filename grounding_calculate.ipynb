{
 "cells": [
  {
   "cell_type": "code",
   "execution_count": 1,
   "metadata": {},
   "outputs": [],
   "source": [
    "import pandas as pd\n",
    "import numpy as np"
   ]
  },
  {
   "cell_type": "code",
   "execution_count": 100,
   "metadata": {},
   "outputs": [],
   "source": [
    "v_sistem                    = 150000\n",
    "ps                          = 3000              # resistivitas_permukaan_koral\n",
    "hs                          = 0.1               # ketebalan lapisan koral\n",
    "R_impedansi_urutan_positif  = 4\n",
    "R_impedansi_urutan_nol      = 10\n",
    "Jx_impedansi_urutan_positif = 10\n",
    "Jx_impedansi_urutan_nol     = 40\n",
    "S                           = 3                 # panjang_rod\n",
    "d                           = 0.012             # diameter_konduktor\n",
    "jumlah_rod                  = 32\n",
    "h                           = 3                 # kedalaman_pentanahan\n",
    "resistansi_pentanahan       = 0.1573\n",
    "\n",
    "L1                          = 100               # panjang grid\n",
    "L2                          = 60                # lebar grid\n",
    "suhu_max_konduktor          = 1083\n",
    "suhu_keliling_tahunan       = 34\n",
    "rk                          = 1000              # resistansi_tubuh_manusia\n",
    "diamter_rod                 = 3\n",
    "tf                          = 1                 # waktu_gangguan\n",
    "arus_gangguang_max          = 30101.68241\n",
    "p                           = 100               # tahanan jenis tanah (ohm-meter)\n",
    "n                           = 10                # jumlah_konduktor_sisi_panjang\n",
    "m                           = 6                 # jumlah_konduktor_sisi_lebar\n",
    "D1                          = L1 / (m - 1)      # jarak konduktor panjang\n",
    "D2                          = L2 / (n - 1)      # jarak konduktor lebar\n",
    "lc                          = (L1*n) + (L2*m)   # panjang konduktor grid\n",
    "lr                          = S * jumlah_rod    # panjang konduktor rod\n",
    "L                           = lc + lr           # panjang total konduktor pentanahan\n",
    "L_area                      = L1*L2             # luas area pentanahan"
   ]
  },
  {
   "cell_type": "code",
   "execution_count": 101,
   "metadata": {},
   "outputs": [
    {
     "name": "stdout",
     "output_type": "stream",
     "text": [
      "171.42296650717705\n",
      "214.69186602870812\n"
     ]
    }
   ],
   "source": [
    "cs = 1 - (((0.09)*(1-(p/ps))) / (2*hs+0.009))\n",
    "#======Arus Fibrasi 50 Kg======\n",
    "Ik_50 = 0.116 / np.sqrt(tf)      # Arus fibrasi\n",
    "Es_50 = Ik_50 * (rk + 1.5*ps*cs) # Tegangan sentuh yang diizinkan\n",
    "El_50 = Ik_50 * (rk +  6*ps*cs)  # Tegangan langkah yang diizinkan\n",
    "\n",
    "#======Arus Fibrasi 70 Kg======\n",
    "Ik_70 = 0.157 / np.sqrt(tf)      # Arus fibrasi\n",
    "Es_70 = Ik_70 * (rk + 1.5*ps*cs) # Tegangan sentuh yang diizinkan\n",
    "El_70 = Ik_70 * (rk +  6*ps*cs)  # Tegangan langkah yang diizinkan\n",
    "\n",
    "\n",
    "#======Tegangan Sentuh Sebenarnya (Em)======\n",
    "kh  = np.sqrt(1 + (h / 1))       # Faktor koreksi berat pada tekanan dari efek kedalaman grid\n",
    "kii = 1                          # Faktor koreksi berat efek dari konduktor pada bagian dalam dan pojok grid\n",
    "N   = np.sqrt(n*m)\n",
    "ki  = 0.656 + 0.172 * N\n",
    "km  = (1 / (2 * np.pi)) * (np.log((D1**2/(16*h*d)) + ((D1+2*h)**2/(8*D1*d)) - (h/(4*d))) + ((kii/kh)*np.log(8/(np.pi*(2*N-1)))))\n",
    "Em  = km * ki * p * (1 / L)\n",
    "\n",
    "bus = (3*(v_sistem/np.sqrt(3)))/(3*0+(R_impedansi_urutan_positif+R_impedansi_urutan_positif+R_impedansi_urutan_nol)+(Jx_impedansi_urutan_positif+Jx_impedansi_urutan_positif+Jx_impedansi_urutan_nol))\n",
    "iG  = 1*0.6*bus\n",
    "Em2 = (p*iG*kii*1.1472)/(lc+(1.55+1.22*(lr/(np.sqrt((L1*L1)+(L2*L2)))))*lr)\n",
    "\n",
    "#======Tegangan Langkah Sebenarnya (Es)======\n",
    "ks = (1/np.pi) * ((1/(2*h)) + (1/(D1+h)) + ((1/D1)*(1-(0.5**(N-2)))))\n",
    "Es = ks * ki * p * (1 / L)\n",
    "ks2 = (1/np.pi)*(1/(2*h))+(1/(D1+h))+((1/D1)*(1-0.5**(3.4-2)))\n",
    "Es2 = (p*iG*ks2*1.1472)/(0.75*lc+0.85*lr)\n",
    "\n",
    "\n",
    "#======Rg (Resistansi Pentanahan) rod======\n",
    "Rg = p * ((1/L) + ((1/np.sqrt(20*L_area)) * (1+(1/(1+h*np.sqrt(20/L_area))))))"
   ]
  },
  {
   "cell_type": "code",
   "execution_count": 102,
   "metadata": {},
   "outputs": [
    {
     "name": "stdout",
     "output_type": "stream",
     "text": [
      "0.6124401913875599\n"
     ]
    }
   ],
   "source": [
    "print(cs)"
   ]
  },
  {
   "cell_type": "code",
   "execution_count": 78,
   "metadata": {},
   "outputs": [
    {
     "name": "stdout",
     "output_type": "stream",
     "text": [
      "============Berat Badan 50 Kg============\n",
      "Arus Fibrasi                    : 0.116 Amp\n",
      "Tegangan sentuh yang diizinkan  : 481.40000000000003 Volt\n",
      "Tegangan langkah yang diizinkan : 1577.6000000000004 Volt\n",
      "\n",
      "============Berat Badan 70 Kg============\n",
      "Arus Fibrasi                    : 0.157 Amp\n",
      "Tegangan sentuh yang diizinkan  : 651.55 Volt\n",
      "Tegangan langkah yang diizinkan : 2135.2000000000003 Volt\n",
      "\n",
      "=============IEEE Grounding==============\n",
      "Mesh Voltage (Em)               : 142.82859681323774 volt\n",
      "Step Voltage (Es)               : 26.55327492333221 volt\n",
      "Rg (resistansi pentanahan) rod  : 0.6034132930645986 ohm\n"
     ]
    }
   ],
   "source": [
    "print(\"============Berat Badan 50 Kg============\")\n",
    "print(f\"Arus Fibrasi                    : {Ik_50} Amp\")\n",
    "print(f\"Tegangan sentuh yang diizinkan  : {Es_50} Volt\")\n",
    "print(f\"Tegangan langkah yang diizinkan : {El_50} Volt\")\n",
    "\n",
    "print(\"\\n============Berat Badan 70 Kg============\")\n",
    "print(f\"Arus Fibrasi                    : {Ik_70} Amp\")\n",
    "print(f\"Tegangan sentuh yang diizinkan  : {Es_70} Volt\")\n",
    "print(f\"Tegangan langkah yang diizinkan : {El_70} Volt\")\n",
    "\n",
    "print(\"\\n=============IEEE Grounding==============\")\n",
    "print(f\"Mesh Voltage (Em)               : {Em2} volt\")\n",
    "print(f\"Step Voltage (Es)               : {Es2} volt\")\n",
    "print(f\"Rg (resistansi pentanahan) rod  : {Rg} ohm\")\n"
   ]
  }
 ],
 "metadata": {
  "kernelspec": {
   "display_name": "Python 3",
   "language": "python",
   "name": "python3"
  },
  "language_info": {
   "codemirror_mode": {
    "name": "ipython",
    "version": 3
   },
   "file_extension": ".py",
   "mimetype": "text/x-python",
   "name": "python",
   "nbconvert_exporter": "python",
   "pygments_lexer": "ipython3",
   "version": "3.11.6"
  }
 },
 "nbformat": 4,
 "nbformat_minor": 2
}
